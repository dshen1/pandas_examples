{
 "cells": [
  {
   "cell_type": "code",
   "execution_count": 1,
   "metadata": {
    "collapsed": true
   },
   "outputs": [],
   "source": [
    "# http://www.wrc.com/live-ticker/daten/2016/201/stage.201.23.html"
   ]
  },
  {
   "cell_type": "code",
   "execution_count": 2,
   "metadata": {
    "collapsed": true
   },
   "outputs": [],
   "source": [
    "import pandas as pd\n",
    " \n",
    "def getStageResultsBase(year,rallyid,stages):\n",
    "    ''' Get stage results and overall results at end of stage '''\n",
    "     \n",
    "    # Accept one stage number or a list of stage numbers\n",
    "    stages=[stages] if not isinstance(stages,list) else stages\n",
    "     \n",
    "    #There are actually two tables on the stage results page\n",
    "    df_stage=pd.DataFrame()\n",
    "    df_overallpart=pd.DataFrame()\n",
    "     \n",
    "    #Grab data for each stage\n",
    "    for stage in stages:\n",
    "        url='http://www.wrc.com/live-ticker/daten/{year}/{rallyid}/stage.{rallyid}.{stage}.all.html'.format(year=year, rallyid=rallyid, stage=stage)\n",
    "        #scrape the data\n",
    "        results=pd.read_html(url,encoding='utf-8')\n",
    "        results[0].columns=['pos', 'carNo', 'driverName', 'time', 'diffPrev', 'diffFirst']\n",
    "        results[1].columns=['pos', 'carNo', 'driverName', 'time', 'diffPrev', 'diffFirst']\n",
    "         \n",
    "        #Simple cleaning - cast the data types as required\n",
    "        for i in [0,1]:\n",
    "            results[i].fillna(0,inplace=True)\n",
    "            results[i]['pos']=results[i]['pos'].astype(float).astype(int)\n",
    "            for j in ['carNo','driverName','time','diffPrev','diffFirst']:\n",
    "                results[i][j]=results[i][j].astype(str)\n",
    "         \n",
    "        #Add a stage identifier\n",
    "        results[0]['stage']=stage\n",
    "        results[1]['stage']=stage\n",
    "         \n",
    "        #Add the scraped stage data to combined stage results data frames\n",
    "        df_stage=pd.concat([df_stage,results[0]])\n",
    "        df_overallpart=pd.concat([df_overallpart,results[1]])\n",
    " \n",
    "    return df_stage.reset_index(drop=True), df_overallpart.reset_index(drop=True)"
   ]
  },
  {
   "cell_type": "code",
   "execution_count": 3,
   "metadata": {
    "collapsed": false
   },
   "outputs": [
    {
     "data": {
      "text/plain": [
       "(    pos carNo     driverName    time diffPrev diffFirst  stage\n",
       " 0     1     1       S. OGIER  3:36.8      0.0         0     23\n",
       " 1     2     3    T. NEUVILLE  3:38.0      1.2      +1.2     23\n",
       " 2     3    20       D. SORDO  3:39.5      1.5      +2.7     23\n",
       " 3     4     4      H. PADDON  3:39.6      0.1      +2.8     23\n",
       " 4     5     2     J. LATVALA  3:40.7      1.1      +3.9     23\n",
       " 5     6     9   A. MIKKELSEN  3:41.8      1.1      +5.0     23\n",
       " 6     7     5     M. OSTBERG  3:42.2      0.4      +5.4     23\n",
       " 7     8    12       O. TANAK  3:43.1      0.9      +6.3     23\n",
       " 8     9    37    L. BERTELLI  3:49.9      6.8     +13.1     23\n",
       " 9    10    31       E. LAPPI  3:51.1      1.2     +14.3     23\n",
       " 10   11    42       N. FUCHS  3:51.6      0.5     +14.8     23\n",
       " 11   12    35  K. AL-SUWAIDI  4:00.3      8.7     +23.5     23\n",
       " 12   13    63      B. REEVES  4:00.6      0.3     +23.8     23\n",
       " 13   14    33     H. PTASZEK  4:01.3      0.7     +24.5     23\n",
       " 14   15    65       H. BATES  4:06.6      5.3     +29.8     23\n",
       " 15   16    64       N. QUINN  4:08.1      1.5     +31.3     23\n",
       " 16   17    67      M. TAYLOR  4:18.9     10.8     +42.1     23\n",
       " 17   18    76      T. CLARKE  4:19.0      0.1     +42.2     23\n",
       " 18   19    72     T. SULLENS  4:27.5      8.5     +50.7     23\n",
       " 19   20    34  J. SERDERIDIS  4:30.4      2.9     +53.6     23\n",
       " 20   21    70        D. KING  4:30.8      0.4     +54.0     23\n",
       " 21   22    62       M. FABRE  4:43.4     12.6   +1:06.6     23\n",
       " 22   23    77    J. STILLING  4:46.1      2.7   +1:09.3     23\n",
       " 23   24    78        P. DUNN  4:49.7      3.6   +1:12.9     23\n",
       " 24   25    68    B. MARKOVIC  5:00.8     11.1   +1:24.0     23,\n",
       "     pos carNo     driverName       time  diffPrev   diffFirst  stage\n",
       " 0     1     9   A. MIKKELSEN  2:46:05.7         0           0     23\n",
       " 1     2     1       S. OGIER  2:46:20.6     +14.9       +14.9     23\n",
       " 2     3     3    T. NEUVILLE  2:47:18.3     +57.7     +1:12.6     23\n",
       " 3     4     4      H. PADDON  2:47:32.4     +14.1     +1:26.7     23\n",
       " 4     5    20       D. SORDO  2:47:34.0      +1.6     +1:28.3     23\n",
       " 5     6     5     M. OSTBERG  2:47:47.2     +13.2     +1:41.5     23\n",
       " 6     7    12       O. TANAK  2:49:10.0   +1:22.8     +3:04.3     23\n",
       " 7     8    31       E. LAPPI  2:53:38.0   +4:28.0     +7:32.3     23\n",
       " 8     9     2     J. LATVALA  2:54:02.6     +24.6     +7:56.9     23\n",
       " 9    10    37    L. BERTELLI  2:54:05.8      +3.2     +8:00.1     23\n",
       " 10   11    42       N. FUCHS  2:58:13.8   +4:08.0    +12:08.1     23\n",
       " 11   12    33     H. PTASZEK  3:00:20.9   +2:07.1    +14:15.2     23\n",
       " 12   13    67      M. TAYLOR  3:08:06.5   +7:45.6    +22:00.8     23\n",
       " 13   14    65       H. BATES  3:10:32.5   +2:26.0    +24:26.8     23\n",
       " 14   15    68    B. MARKOVIC  3:14:24.0   +3:51.5    +28:18.3     23\n",
       " 15   16    72     T. SULLENS  3:14:31.3      +7.3    +28:25.6     23\n",
       " 16   17    76      T. CLARKE  3:19:04.9   +4:33.6    +32:59.2     23\n",
       " 17   18    70        D. KING  3:23:59.1   +4:54.2    +37:53.4     23\n",
       " 18   19    62       M. FABRE  3:27:18.8   +3:19.7    +41:13.1     23\n",
       " 19   20    77    J. STILLING  3:33:22.9   +6:04.1    +47:17.2     23\n",
       " 20   21    78        P. DUNN  3:36:49.5   +3:26.6    +50:43.8     23\n",
       " 21   22    35  K. AL-SUWAIDI  3:47:27.1  +10:37.6  +1:01:21.4     23\n",
       " 22   23    34  J. SERDERIDIS  3:52:41.6   +5:14.5  +1:06:35.9     23\n",
       " 23   24    64       N. QUINN  4:02:53.7  +10:12.1  +1:16:48.0     23\n",
       " 24   25    63      B. REEVES  4:12:59.2  +10:05.5  +1:26:53.5     23)"
      ]
     },
     "execution_count": 3,
     "metadata": {},
     "output_type": "execute_result"
    }
   ],
   "source": [
    "getStageResultsBase(2016, 201, 23)"
   ]
  },
  {
   "cell_type": "code",
   "execution_count": 4,
   "metadata": {
    "collapsed": true
   },
   "outputs": [],
   "source": [
    "#If we have hh:mm:ss format we can easily cast a timedelta\n",
    "def regularTimeString(strtime):\n",
    " \n",
    "    #Go defensive, just in case we're passed eg 0 as an int\n",
    "    strtime=str(strtime)\n",
    "    strtime=strtime.strip('+')\n",
    " \n",
    "    modifier=''\n",
    "    if strtime.startswith('-'):\n",
    "        modifier='-'\n",
    "        strtime=strtime.strip('-')\n",
    " \n",
    "    timeComponents=strtime.split(':')\n",
    "    ss=timeComponents[-1]\n",
    "    mm=timeComponents[-2] if len(timeComponents)>1 else 0\n",
    "    hh=timeComponents[-3] if len(timeComponents)>2 else 0\n",
    "    timestr='{}{}:{}:{}'.format(modifier,hh,mm,ss)\n",
    "    return pd.to_timedelta(timestr)"
   ]
  },
  {
   "cell_type": "code",
   "execution_count": 5,
   "metadata": {
    "collapsed": true
   },
   "outputs": [],
   "source": [
    "def getStageResults(year,rallyid,stages):\n",
    "    df_stage, df_overallpart = getStageResultsBase(year,rallyid,stages)\n",
    "    for col in ['time','diffPrev','diffFirst']:\n",
    "        df_stage['td_'+col]=df_stage.apply(lambda x: regularTimeString(x[col]),axis=1)\n",
    "        df_overallpart['td_'+col]=df_overallpart.apply(lambda x: regularTimeString(x[col]),axis=1)\n",
    "    return df_stage, df_overallpart"
   ]
  },
  {
   "cell_type": "code",
   "execution_count": 6,
   "metadata": {
    "collapsed": false
   },
   "outputs": [
    {
     "data": {
      "text/plain": [
       "(    pos carNo     driverName    time diffPrev diffFirst  stage  \\\n",
       " 0     1     1       S. OGIER  3:36.8      0.0         0     23   \n",
       " 1     2     3    T. NEUVILLE  3:38.0      1.2      +1.2     23   \n",
       " 2     3    20       D. SORDO  3:39.5      1.5      +2.7     23   \n",
       " 3     4     4      H. PADDON  3:39.6      0.1      +2.8     23   \n",
       " 4     5     2     J. LATVALA  3:40.7      1.1      +3.9     23   \n",
       " 5     6     9   A. MIKKELSEN  3:41.8      1.1      +5.0     23   \n",
       " 6     7     5     M. OSTBERG  3:42.2      0.4      +5.4     23   \n",
       " 7     8    12       O. TANAK  3:43.1      0.9      +6.3     23   \n",
       " 8     9    37    L. BERTELLI  3:49.9      6.8     +13.1     23   \n",
       " 9    10    31       E. LAPPI  3:51.1      1.2     +14.3     23   \n",
       " 10   11    42       N. FUCHS  3:51.6      0.5     +14.8     23   \n",
       " 11   12    35  K. AL-SUWAIDI  4:00.3      8.7     +23.5     23   \n",
       " 12   13    63      B. REEVES  4:00.6      0.3     +23.8     23   \n",
       " 13   14    33     H. PTASZEK  4:01.3      0.7     +24.5     23   \n",
       " 14   15    65       H. BATES  4:06.6      5.3     +29.8     23   \n",
       " 15   16    64       N. QUINN  4:08.1      1.5     +31.3     23   \n",
       " 16   17    67      M. TAYLOR  4:18.9     10.8     +42.1     23   \n",
       " 17   18    76      T. CLARKE  4:19.0      0.1     +42.2     23   \n",
       " 18   19    72     T. SULLENS  4:27.5      8.5     +50.7     23   \n",
       " 19   20    34  J. SERDERIDIS  4:30.4      2.9     +53.6     23   \n",
       " 20   21    70        D. KING  4:30.8      0.4     +54.0     23   \n",
       " 21   22    62       M. FABRE  4:43.4     12.6   +1:06.6     23   \n",
       " 22   23    77    J. STILLING  4:46.1      2.7   +1:09.3     23   \n",
       " 23   24    78        P. DUNN  4:49.7      3.6   +1:12.9     23   \n",
       " 24   25    68    B. MARKOVIC  5:00.8     11.1   +1:24.0     23   \n",
       " \n",
       "            td_time     td_diffPrev    td_diffFirst  \n",
       " 0  00:03:36.800000        00:00:00        00:00:00  \n",
       " 1         00:03:38 00:00:01.200000 00:00:01.200000  \n",
       " 2  00:03:39.500000 00:00:01.500000 00:00:02.700000  \n",
       " 3  00:03:39.600000 00:00:00.100000 00:00:02.800000  \n",
       " 4  00:03:40.700000 00:00:01.100000 00:00:03.900000  \n",
       " 5  00:03:41.800000 00:00:01.100000        00:00:05  \n",
       " 6  00:03:42.200000 00:00:00.400000 00:00:05.400000  \n",
       " 7  00:03:43.100000 00:00:00.900000 00:00:06.300000  \n",
       " 8  00:03:49.900000 00:00:06.800000 00:00:13.100000  \n",
       " 9  00:03:51.100000 00:00:01.200000 00:00:14.300000  \n",
       " 10 00:03:51.600000 00:00:00.500000 00:00:14.800000  \n",
       " 11 00:04:00.300000 00:00:08.700000 00:00:23.500000  \n",
       " 12 00:04:00.600000 00:00:00.300000 00:00:23.800000  \n",
       " 13 00:04:01.300000 00:00:00.700000 00:00:24.500000  \n",
       " 14 00:04:06.600000 00:00:05.300000 00:00:29.800000  \n",
       " 15 00:04:08.100000 00:00:01.500000 00:00:31.300000  \n",
       " 16 00:04:18.900000 00:00:10.800000 00:00:42.100000  \n",
       " 17        00:04:19 00:00:00.100000 00:00:42.200000  \n",
       " 18 00:04:27.500000 00:00:08.500000 00:00:50.700000  \n",
       " 19 00:04:30.400000 00:00:02.900000 00:00:53.600000  \n",
       " 20 00:04:30.800000 00:00:00.400000        00:00:54  \n",
       " 21 00:04:43.400000 00:00:12.600000 00:01:06.600000  \n",
       " 22 00:04:46.100000 00:00:02.700000 00:01:09.300000  \n",
       " 23 00:04:49.700000 00:00:03.600000 00:01:12.900000  \n",
       " 24 00:05:00.800000 00:00:11.100000        00:01:24  ,\n",
       "     pos carNo     driverName       time  diffPrev   diffFirst  stage  \\\n",
       " 0     1     9   A. MIKKELSEN  2:46:05.7         0           0     23   \n",
       " 1     2     1       S. OGIER  2:46:20.6     +14.9       +14.9     23   \n",
       " 2     3     3    T. NEUVILLE  2:47:18.3     +57.7     +1:12.6     23   \n",
       " 3     4     4      H. PADDON  2:47:32.4     +14.1     +1:26.7     23   \n",
       " 4     5    20       D. SORDO  2:47:34.0      +1.6     +1:28.3     23   \n",
       " 5     6     5     M. OSTBERG  2:47:47.2     +13.2     +1:41.5     23   \n",
       " 6     7    12       O. TANAK  2:49:10.0   +1:22.8     +3:04.3     23   \n",
       " 7     8    31       E. LAPPI  2:53:38.0   +4:28.0     +7:32.3     23   \n",
       " 8     9     2     J. LATVALA  2:54:02.6     +24.6     +7:56.9     23   \n",
       " 9    10    37    L. BERTELLI  2:54:05.8      +3.2     +8:00.1     23   \n",
       " 10   11    42       N. FUCHS  2:58:13.8   +4:08.0    +12:08.1     23   \n",
       " 11   12    33     H. PTASZEK  3:00:20.9   +2:07.1    +14:15.2     23   \n",
       " 12   13    67      M. TAYLOR  3:08:06.5   +7:45.6    +22:00.8     23   \n",
       " 13   14    65       H. BATES  3:10:32.5   +2:26.0    +24:26.8     23   \n",
       " 14   15    68    B. MARKOVIC  3:14:24.0   +3:51.5    +28:18.3     23   \n",
       " 15   16    72     T. SULLENS  3:14:31.3      +7.3    +28:25.6     23   \n",
       " 16   17    76      T. CLARKE  3:19:04.9   +4:33.6    +32:59.2     23   \n",
       " 17   18    70        D. KING  3:23:59.1   +4:54.2    +37:53.4     23   \n",
       " 18   19    62       M. FABRE  3:27:18.8   +3:19.7    +41:13.1     23   \n",
       " 19   20    77    J. STILLING  3:33:22.9   +6:04.1    +47:17.2     23   \n",
       " 20   21    78        P. DUNN  3:36:49.5   +3:26.6    +50:43.8     23   \n",
       " 21   22    35  K. AL-SUWAIDI  3:47:27.1  +10:37.6  +1:01:21.4     23   \n",
       " 22   23    34  J. SERDERIDIS  3:52:41.6   +5:14.5  +1:06:35.9     23   \n",
       " 23   24    64       N. QUINN  4:02:53.7  +10:12.1  +1:16:48.0     23   \n",
       " 24   25    63      B. REEVES  4:12:59.2  +10:05.5  +1:26:53.5     23   \n",
       " \n",
       "            td_time     td_diffPrev    td_diffFirst  \n",
       " 0  02:46:05.700000        00:00:00        00:00:00  \n",
       " 1  02:46:20.600000 00:00:14.900000 00:00:14.900000  \n",
       " 2  02:47:18.300000 00:00:57.700000 00:01:12.600000  \n",
       " 3  02:47:32.400000 00:00:14.100000 00:01:26.700000  \n",
       " 4         02:47:34 00:00:01.600000 00:01:28.300000  \n",
       " 5  02:47:47.200000 00:00:13.200000 00:01:41.500000  \n",
       " 6         02:49:10 00:01:22.800000 00:03:04.300000  \n",
       " 7         02:53:38        00:04:28 00:07:32.300000  \n",
       " 8  02:54:02.600000 00:00:24.600000 00:07:56.900000  \n",
       " 9  02:54:05.800000 00:00:03.200000 00:08:00.100000  \n",
       " 10 02:58:13.800000        00:04:08 00:12:08.100000  \n",
       " 11 03:00:20.900000 00:02:07.100000 00:14:15.200000  \n",
       " 12 03:08:06.500000 00:07:45.600000 00:22:00.800000  \n",
       " 13 03:10:32.500000        00:02:26 00:24:26.800000  \n",
       " 14        03:14:24 00:03:51.500000 00:28:18.300000  \n",
       " 15 03:14:31.300000 00:00:07.300000 00:28:25.600000  \n",
       " 16 03:19:04.900000 00:04:33.600000 00:32:59.200000  \n",
       " 17 03:23:59.100000 00:04:54.200000 00:37:53.400000  \n",
       " 18 03:27:18.800000 00:03:19.700000 00:41:13.100000  \n",
       " 19 03:33:22.900000 00:06:04.100000 00:47:17.200000  \n",
       " 20 03:36:49.500000 00:03:26.600000 00:50:43.800000  \n",
       " 21 03:47:27.100000 00:10:37.600000 01:01:21.400000  \n",
       " 22 03:52:41.600000 00:05:14.500000 01:06:35.900000  \n",
       " 23 04:02:53.700000 00:10:12.100000        01:16:48  \n",
       " 24 04:12:59.200000 00:10:05.500000 01:26:53.500000  )"
      ]
     },
     "execution_count": 6,
     "metadata": {},
     "output_type": "execute_result"
    }
   ],
   "source": [
    "getStageResults(2016, 201, 23)"
   ]
  },
  {
   "cell_type": "code",
   "execution_count": 7,
   "metadata": {
    "collapsed": false
   },
   "outputs": [
    {
     "ename": "NameError",
     "evalue": "name 'df_overall' is not defined",
     "output_type": "error",
     "traceback": [
      "\u001b[0;31m\u001b[0m",
      "\u001b[0;31mNameError\u001b[0mTraceback (most recent call last)",
      "\u001b[0;32m<ipython-input-7-a218873e5ce3>\u001b[0m in \u001b[0;36m<module>\u001b[0;34m()\u001b[0m\n\u001b[1;32m      2\u001b[0m \u001b[0;32mimport\u001b[0m \u001b[0mmatplotlib\u001b[0m\u001b[0;34m.\u001b[0m\u001b[0mpyplot\u001b[0m \u001b[0;32mas\u001b[0m \u001b[0mplt\u001b[0m\u001b[0;34m\u001b[0m\u001b[0m\n\u001b[1;32m      3\u001b[0m \u001b[0;34m\u001b[0m\u001b[0m\n\u001b[0;32m----> 4\u001b[0;31m \u001b[0mrc1\u001b[0m\u001b[0;34m=\u001b[0m\u001b[0mdf_overall\u001b[0m\u001b[0;34m[\u001b[0m\u001b[0mdf_overall\u001b[0m\u001b[0;34m[\u001b[0m\u001b[0;34m'groupClass'\u001b[0m\u001b[0;34m]\u001b[0m\u001b[0;34m==\u001b[0m\u001b[0;34m'RC1'\u001b[0m\u001b[0;34m]\u001b[0m\u001b[0;34m.\u001b[0m\u001b[0mreset_index\u001b[0m\u001b[0;34m(\u001b[0m\u001b[0mdrop\u001b[0m\u001b[0;34m=\u001b[0m\u001b[0;32mTrue\u001b[0m\u001b[0;34m)\u001b[0m\u001b[0;34m\u001b[0m\u001b[0m\n\u001b[0m\u001b[1;32m      5\u001b[0m \u001b[0;34m\u001b[0m\u001b[0m\n\u001b[1;32m      6\u001b[0m \u001b[0mfig\u001b[0m\u001b[0;34m,\u001b[0m \u001b[0max\u001b[0m \u001b[0;34m=\u001b[0m \u001b[0mplt\u001b[0m\u001b[0;34m.\u001b[0m\u001b[0msubplots\u001b[0m\u001b[0;34m(\u001b[0m\u001b[0mfigsize\u001b[0m\u001b[0;34m=\u001b[0m\u001b[0;34m(\u001b[0m\u001b[0;36m15\u001b[0m\u001b[0;34m,\u001b[0m\u001b[0;36m8\u001b[0m\u001b[0;34m)\u001b[0m\u001b[0;34m)\u001b[0m\u001b[0;34m\u001b[0m\u001b[0m\n",
      "\u001b[0;31mNameError\u001b[0m: name 'df_overall' is not defined"
     ]
    }
   ],
   "source": [
    "%matplotlib inline\n",
    "import matplotlib.pyplot as plt\n",
    " \n",
    "rc1=df_overall[df_overall['groupClass']=='RC1'].reset_index(drop=True)\n",
    " \n",
    "fig, ax = plt.subplots(figsize=(15,8))\n",
    "ax.get_yaxis().set_ticklabels([])\n",
    "rc1.groupby('driverName').plot(x='stage',y='pos',ax=ax,legend=None);"
   ]
  },
  {
   "cell_type": "code",
   "execution_count": 8,
   "metadata": {
    "collapsed": true
   },
   "outputs": [],
   "source": [
    "# https://blog.ouseful.info/2017/01/25/a-first-attempt-at-wrangling-wrc-world-rally-championship-data-with-pandas-and-matplotlib/"
   ]
  },
  {
   "cell_type": "code",
   "execution_count": null,
   "metadata": {
    "collapsed": true
   },
   "outputs": [],
   "source": []
  }
 ],
 "metadata": {
  "kernelspec": {
   "display_name": "Python 3",
   "language": "python",
   "name": "python3"
  },
  "language_info": {
   "codemirror_mode": {
    "name": "ipython",
    "version": 3
   },
   "file_extension": ".py",
   "mimetype": "text/x-python",
   "name": "python",
   "nbconvert_exporter": "python",
   "pygments_lexer": "ipython3",
   "version": "3.5.2"
  }
 },
 "nbformat": 4,
 "nbformat_minor": 0
}
