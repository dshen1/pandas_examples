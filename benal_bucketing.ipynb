{
 "cells": [
  {
   "cell_type": "code",
   "execution_count": 14,
   "metadata": {
    "collapsed": true
   },
   "outputs": [],
   "source": [
    "#!http://benalexkeen.com/bucketing-continuous-variables-in-pandas/"
   ]
  },
  {
   "cell_type": "code",
   "execution_count": 15,
   "metadata": {
    "collapsed": true
   },
   "outputs": [],
   "source": [
    "import pandas as pd\n",
    "import numpy as np\n",
    "\n",
    "np.random.seed(10)\n",
    "df = pd.DataFrame({\n",
    "    'normal': np.random.normal(10, 3, 1000),\n",
    "    'chi': np.random.chisquare(4, 1000)\n",
    "})"
   ]
  },
  {
   "cell_type": "code",
   "execution_count": 16,
   "metadata": {},
   "outputs": [
    {
     "data": {
      "text/plain": [
       "0       (13.626, 15.833]\n",
       "1        (11.42, 13.626]\n",
       "2         (4.8, 7.00665]\n",
       "3         (9.213, 11.42]\n",
       "4        (11.42, 13.626]\n",
       "5       (7.00665, 9.213]\n",
       "6         (9.213, 11.42]\n",
       "7         (9.213, 11.42]\n",
       "8         (9.213, 11.42]\n",
       "9         (9.213, 11.42]\n",
       "10        (9.213, 11.42]\n",
       "11       (11.42, 13.626]\n",
       "12      (7.00665, 9.213]\n",
       "13       (11.42, 13.626]\n",
       "14        (9.213, 11.42]\n",
       "15        (9.213, 11.42]\n",
       "16        (4.8, 7.00665]\n",
       "17        (9.213, 11.42]\n",
       "18      (13.626, 15.833]\n",
       "19        (4.8, 7.00665]\n",
       "20          (2.593, 4.8]\n",
       "21          (2.593, 4.8]\n",
       "22        (9.213, 11.42]\n",
       "23     (15.833, 18.0397]\n",
       "24       (11.42, 13.626]\n",
       "25      (13.626, 15.833]\n",
       "26        (9.213, 11.42]\n",
       "27      (13.626, 15.833]\n",
       "28      (7.00665, 9.213]\n",
       "29       (11.42, 13.626]\n",
       "             ...        \n",
       "970     (7.00665, 9.213]\n",
       "971     (7.00665, 9.213]\n",
       "972       (9.213, 11.42]\n",
       "973      (11.42, 13.626]\n",
       "974     (7.00665, 9.213]\n",
       "975       (9.213, 11.42]\n",
       "976       (9.213, 11.42]\n",
       "977     (7.00665, 9.213]\n",
       "978         (2.593, 4.8]\n",
       "979       (9.213, 11.42]\n",
       "980     (13.626, 15.833]\n",
       "981     (7.00665, 9.213]\n",
       "982      (11.42, 13.626]\n",
       "983     (7.00665, 9.213]\n",
       "984     (7.00665, 9.213]\n",
       "985    (15.833, 18.0397]\n",
       "986       (9.213, 11.42]\n",
       "987     (7.00665, 9.213]\n",
       "988      (11.42, 13.626]\n",
       "989       (9.213, 11.42]\n",
       "990       (9.213, 11.42]\n",
       "991         (2.593, 4.8]\n",
       "992     (7.00665, 9.213]\n",
       "993       (9.213, 11.42]\n",
       "994       (9.213, 11.42]\n",
       "995       (4.8, 7.00665]\n",
       "996     (7.00665, 9.213]\n",
       "997     (13.626, 15.833]\n",
       "998     (7.00665, 9.213]\n",
       "999      (11.42, 13.626]\n",
       "Name: normal, dtype: category\n",
       "Categories (8, object): [(0.369, 2.593] < (2.593, 4.8] < (4.8, 7.00665] < (7.00665, 9.213] < (9.213, 11.42] < (11.42, 13.626] < (13.626, 15.833] < (15.833, 18.0397]]"
      ]
     },
     "execution_count": 16,
     "metadata": {},
     "output_type": "execute_result"
    }
   ],
   "source": [
    "pd.cut(df['normal'], 8)"
   ]
  },
  {
   "cell_type": "code",
   "execution_count": 17,
   "metadata": {},
   "outputs": [
    {
     "data": {
      "text/plain": [
       "0    (8.645, 10.784]\n",
       "1     (2.229, 4.368]\n",
       "2     (6.507, 8.645]\n",
       "3     (4.368, 6.507]\n",
       "4     (2.229, 4.368]\n",
       "Name: chi, dtype: category\n",
       "Categories (8, object): [(0.0738, 2.229] < (2.229, 4.368] < (4.368, 6.507] < (6.507, 8.645] < (8.645, 10.784] < (10.784, 12.922] < (12.922, 15.0607] < (15.0607, 17.199]]"
      ]
     },
     "execution_count": 17,
     "metadata": {},
     "output_type": "execute_result"
    }
   ],
   "source": [
    "pd.cut(df['chi'], 8).head()"
   ]
  },
  {
   "cell_type": "code",
   "execution_count": 18,
   "metadata": {},
   "outputs": [
    {
     "data": {
      "text/plain": [
       "array([  0. ,   2.5,   5. ,   7.5,  10. ,  12.5,  15. ,  17.5,  20. ])"
      ]
     },
     "execution_count": 18,
     "metadata": {},
     "output_type": "execute_result"
    }
   ],
   "source": [
    "custom_bucket_array = np.linspace(0, 20, 9)\n",
    "custom_bucket_array"
   ]
  },
  {
   "cell_type": "code",
   "execution_count": 19,
   "metadata": {},
   "outputs": [
    {
     "data": {
      "text/html": [
       "<div>\n",
       "<table border=\"1\" class=\"dataframe\">\n",
       "  <thead>\n",
       "    <tr style=\"text-align: right;\">\n",
       "      <th></th>\n",
       "      <th>chi</th>\n",
       "      <th>normal</th>\n",
       "    </tr>\n",
       "  </thead>\n",
       "  <tbody>\n",
       "    <tr>\n",
       "      <th>0</th>\n",
       "      <td>(7.5, 10]</td>\n",
       "      <td>(12.5, 15]</td>\n",
       "    </tr>\n",
       "    <tr>\n",
       "      <th>1</th>\n",
       "      <td>(2.5, 5]</td>\n",
       "      <td>(10, 12.5]</td>\n",
       "    </tr>\n",
       "    <tr>\n",
       "      <th>2</th>\n",
       "      <td>(5, 7.5]</td>\n",
       "      <td>(5, 7.5]</td>\n",
       "    </tr>\n",
       "    <tr>\n",
       "      <th>3</th>\n",
       "      <td>(5, 7.5]</td>\n",
       "      <td>(7.5, 10]</td>\n",
       "    </tr>\n",
       "    <tr>\n",
       "      <th>4</th>\n",
       "      <td>(2.5, 5]</td>\n",
       "      <td>(10, 12.5]</td>\n",
       "    </tr>\n",
       "  </tbody>\n",
       "</table>\n",
       "</div>"
      ],
      "text/plain": [
       "         chi      normal\n",
       "0  (7.5, 10]  (12.5, 15]\n",
       "1   (2.5, 5]  (10, 12.5]\n",
       "2   (5, 7.5]    (5, 7.5]\n",
       "3   (5, 7.5]   (7.5, 10]\n",
       "4   (2.5, 5]  (10, 12.5]"
      ]
     },
     "execution_count": 19,
     "metadata": {},
     "output_type": "execute_result"
    }
   ],
   "source": [
    "df['normal'] = pd.cut(df['normal'], custom_bucket_array)\n",
    "df['chi'] = pd.cut(df['chi'], custom_bucket_array)\n",
    "df.head()"
   ]
  },
  {
   "cell_type": "code",
   "execution_count": 20,
   "metadata": {},
   "outputs": [
    {
     "data": {
      "image/png": "[encoded data removed]",
      "text/plain": [
       "<matplotlib.figure.Figure at 0x7ff72447e048>"
      ]
     },
     "metadata": {},
     "output_type": "display_data"
    }
   ],
   "source": [
    "import matplotlib.pyplot as plt\n",
    "%matplotlib inline\n",
    "\n",
    "plt.style.use('ggplot')\n",
    "\n",
    "a = df.groupby('normal').size()\n",
    "b = df.groupby('chi').size()\n",
    "\n",
    "categories = df['normal'].cat.categories\n",
    "ind = np.array([x for x, _ in enumerate(categories)])\n",
    "width = 0.35       \n",
    "plt.bar(ind, a, width, label='Normal')\n",
    "plt.bar(ind + width, b, width,\n",
    "    label='Chi Square')\n",
    "\n",
    "plt.xticks(ind + width / 2, categories)\n",
    "plt.legend(loc='best')\n",
    "plt.xticks(rotation = 90)\n",
    "plt.show()"
   ]
  }
 ],
 "metadata": {
  "kernelspec": {
   "display_name": "Python 3",
   "language": "python",
   "name": "python3"
  },
  "language_info": {
   "codemirror_mode": {
    "name": "ipython",
    "version": 3
   },
   "file_extension": ".py",
   "mimetype": "text/x-python",
   "name": "python",
   "nbconvert_exporter": "python",
   "pygments_lexer": "ipython3",
   "version": "3.6.0"
  }
 },
 "nbformat": 4,
 "nbformat_minor": 2
}
