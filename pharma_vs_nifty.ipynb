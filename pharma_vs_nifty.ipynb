{
 "cells": [
  {
   "cell_type": "code",
   "execution_count": 1,
   "metadata": {
    "collapsed": false
   },
   "outputs": [
    {
     "ename": "ImportError",
     "evalue": "No module named matplotlib.pyplot",
     "output_type": "error",
     "traceback": [
      "\u001b[1;31m---------------------------------------------------------------------------\u001b[0m",
      "\u001b[1;31mImportError\u001b[0m                               Traceback (most recent call last)",
      "\u001b[1;32m<ipython-input-1-b5435f0a3431>\u001b[0m in \u001b[0;36m<module>\u001b[1;34m()\u001b[0m\n\u001b[0;32m      1\u001b[0m \u001b[1;32mimport\u001b[0m \u001b[0mpandas\u001b[0m \u001b[1;32mas\u001b[0m \u001b[0mpd\u001b[0m\u001b[1;33m\u001b[0m\u001b[0m\n\u001b[1;32m----> 2\u001b[1;33m \u001b[1;32mimport\u001b[0m \u001b[0mmatplotlib\u001b[0m\u001b[1;33m.\u001b[0m\u001b[0mpyplot\u001b[0m \u001b[1;32mas\u001b[0m \u001b[0mplt\u001b[0m\u001b[1;33m\u001b[0m\u001b[0m\n\u001b[0m\u001b[0;32m      3\u001b[0m \u001b[1;33m\u001b[0m\u001b[0m\n\u001b[0;32m      4\u001b[0m \u001b[0mdata\u001b[0m \u001b[1;33m=\u001b[0m \u001b[0mpd\u001b[0m\u001b[1;33m.\u001b[0m\u001b[0mread_csv\u001b[0m\u001b[1;33m(\u001b[0m\u001b[1;34m'NIFTY and NIFTY_Pharma.csv'\u001b[0m\u001b[1;33m,\u001b[0m\u001b[0mindex_col\u001b[0m\u001b[1;33m=\u001b[0m\u001b[1;36m0\u001b[0m\u001b[1;33m,\u001b[0m\u001b[0mparse_dates\u001b[0m \u001b[1;33m=\u001b[0m \u001b[0mTrue\u001b[0m\u001b[1;33m)\u001b[0m\u001b[1;33m\u001b[0m\u001b[0m\n\u001b[0;32m      5\u001b[0m \u001b[1;32mprint\u001b[0m \u001b[0mdata\u001b[0m\u001b[1;33m.\u001b[0m\u001b[0mhead\u001b[0m\u001b[1;33m(\u001b[0m\u001b[1;36m5\u001b[0m\u001b[1;33m)\u001b[0m\u001b[1;33m\u001b[0m\u001b[0m\n",
      "\u001b[1;31mImportError\u001b[0m: No module named matplotlib.pyplot"
     ]
    }
   ],
   "source": [
    "import pandas as pd\n",
    "import matplotlib.pyplot as plt\n",
    "\n",
    "data = pd.read_csv('NIFTY and NIFTY_Pharma.csv',index_col=0,parse_dates = True)\n",
    "print data.head(5)\n",
    "\n",
    "plt.figure(figsize=(10,9))\n",
    "plt.subplot(211)\n",
    "plt.plot(data['NIFTY'], lw=1, label ='NIFTY')\n",
    "plt.grid(True)\n",
    "plt.legend(loc=0)\n",
    "plt.xticks(rotation=35)\n",
    "plt.axis('tight')\n",
    "plt.title('NIFTY Pharma Vs NIFTY')\n",
    "\n",
    "plt.subplot(212)\n",
    "plt.plot(data['NIFTY_Pharma'],lw=1, color='red', label ='NIFTY Pharma')\n",
    "\n",
    "# 18th Oct\n",
    "plt.annotate('US Pricing Pressure News',ha = 'center', va = 'bottom',xytext = ('10/21/2016', 11150),xy = ('10/18/2016', 11469.5),\n",
    "arrowprops = { 'facecolor' : 'black', 'shrink' : 0.05 })\n",
    "\n",
    "# 5th Nov\n",
    "plt.annotate('US Probe Pressure News',ha = 'center', va = 'bottom',xytext = ('11/3/2016', 11000),xy = ('11/7/2016', 10818.8),\n",
    "arrowprops = { 'facecolor' : 'black', 'shrink' : 0.05 })\n",
    "\n",
    "# 10th Nov\n",
    "plt.annotate('Trumps \"Make in US\" News Worries the Sector',ha = 'center', va = 'bottom',xytext = ('11/9/2016', 11325),xy = ('11/10/2016', 10990.6),\n",
    "arrowprops = { 'facecolor' : 'black', 'shrink' : 0.05 })\n",
    "\n",
    "# 16 nov\n",
    "plt.annotate('Rising US Approvals News',ha = 'center', va = 'bottom',xytext = ('11/15/2016', 10950),xy = ('11/16/2016', 10559.3),\n",
    "arrowprops = { 'facecolor' : 'black', 'shrink' : 0.05 })\n",
    "\n",
    "plt.grid(True)\n",
    "plt.legend(loc=0)\n",
    "plt.xticks(rotation=35)\n",
    "plt.axis('tight')"
   ]
  },
  {
   "cell_type": "code",
   "execution_count": null,
   "metadata": {
    "collapsed": true
   },
   "outputs": [],
   "source": []
  }
 ],
 "metadata": {
  "kernelspec": {
   "display_name": "Python 2",
   "language": "python",
   "name": "python2"
  },
  "language_info": {
   "codemirror_mode": {
    "name": "ipython",
    "version": 2
   },
   "file_extension": ".py",
   "mimetype": "text/x-python",
   "name": "python",
   "nbconvert_exporter": "python",
   "pygments_lexer": "ipython2",
   "version": "2.7.11"
  }
 },
 "nbformat": 4,
 "nbformat_minor": 0
}
