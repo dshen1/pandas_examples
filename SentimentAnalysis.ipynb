{
 "cells": [
  {
   "cell_type": "code",
   "execution_count": 8,
   "metadata": {
    "collapsed": true
   },
   "outputs": [],
   "source": [
    "# https://www.quantinsti.com/blog/sentiment-analysis-news-python/"
   ]
  },
  {
   "cell_type": "code",
   "execution_count": 1,
   "metadata": {
    "collapsed": false
   },
   "outputs": [
    {
     "name": "stdout",
     "output_type": "stream",
     "text": [
      "['http://www.moneycontrol.com/company-article/cipla/news/C#C', 'http://www.moneycontrol.com/company-article/drreddyslaboratories/news/DRL#DRL', 'http://www.moneycontrol.com/company-article/aurobindopharma/news/AP#AP', 'http://www.moneycontrol.com/company-article/sunpharmaceuticalindustries/news/SPI#SPI', 'http://www.moneycontrol.com/company-article/piramalenterprises/news/PH05#PH05', 'http://www.moneycontrol.com/company-article/divislaboratories/news/DL03#DL03', 'http://www.moneycontrol.com/company-article/lupinlaboratories/news/LL#LL', 'http://www.moneycontrol.com/company-article/cadilahealthcare/news/CHC#CHC', 'http://www.moneycontrol.com/company-article/glenmarkpharma/news/GP08#GP08', 'http://www.moneycontrol.com/company-article/glaxosmithklinepharmaceuticals/news/GSK#GSK']\n"
     ]
    }
   ],
   "source": [
    "import csv\n",
    "import time\n",
    "import requests\n",
    "from bs4 import BeautifulSoup\n",
    "from pattern.en import ngrams\n",
    "\n",
    "Base_url = \"http://www.moneycontrol.com\"\n",
    "\n",
    "# Build a dictionary of companies and their abbreviated names \n",
    "companies = {'cadilahealthcare':'CHC','piramalenterprises':'PH05',\n",
    "             'glenmarkpharma':'GP08','glaxosmithklinepharmaceuticals':'GSK',\n",
    "             'sunpharmaceuticalindustries':'SPI','lupinlaboratories':'LL',\n",
    "             'cipla':'C','aurobindopharma':'AP',\n",
    "             'drreddyslaboratories':'DRL','divislaboratories':'DL03'}\n",
    "             \n",
    "# Create a list of the news section urls of the respective companies \n",
    "url_list = ['http://www.moneycontrol.com/company-article/{}/news/{}#{}'.format(k,v,v) for k,v in companies.iteritems()]\n",
    "print url_list"
   ]
  },
  {
   "cell_type": "code",
   "execution_count": 2,
   "metadata": {
    "collapsed": false
   },
   "outputs": [],
   "source": [
    "# Create an empty list which will contain the selected news articles \n",
    "List_of_links = []   \n",
    "\n",
    "# Extract the relevant news articles weblinks from the news section of selected companies\n",
    "for urls in url_list:\n",
    "   html = requests.get(urls)\n",
    "   soup = BeautifulSoup(html.text,'html.parser') # Create a BeautifulSoup object \n",
    "\n",
    "   # Retrieve a list of all the links and the titles for the respective links\n",
    "   word1,word2,word3 = \"US\",\"USA\",\"USFDA\"\n",
    " \n",
    "   sub_links = soup.find_all('a', class_='arial11_summ')\n",
    "   for links in sub_links:\n",
    "      sp = BeautifulSoup(str(links),'html.parser')  # first convert into a string\n",
    "      tag = sp.a\n",
    "      #print tag\n",
    "      if word1 in tag['title'] or word2 in tag['title'] or word3 in tag['title']:\n",
    "          category_links = Base_url + tag[\"href\"]\n",
    "          List_of_links.append(category_links)\n",
    "          time.sleep(3)\n",
    "          \n",
    "# Print the select list of news articles weblinks    \n",
    "#for p in List_of_links: print p"
   ]
  },
  {
   "cell_type": "code",
   "execution_count": 3,
   "metadata": {
    "collapsed": false
   },
   "outputs": [
    {
     "data": {
      "text/plain": [
       "[u'http://www.moneycontrol.com/news/fiiview/rising-us-approvals-to-boost-earnings-for-pharma-idfc-sec_7970661.html',\n",
       " u'http://www.moneycontrol.com/news/business/dr-reddys-launches-raloxifene-hydrochloride-tabletsus_7951381.html',\n",
       " u'http://www.moneycontrol.com/news/announcements/dr-reddys-lab-launches-raloxifene-tabletsus-market_7950241.html',\n",
       " u'http://www.moneycontrol.com/news/fiiview/rising-us-approvals-to-boost-earnings-for-pharma-idfc-sec_7970661.html',\n",
       " u'http://www.moneycontrol.com/news/business/sun-pharma-cadila-healthcare-recall-productsus-market_8043201.html',\n",
       " u'http://www.moneycontrol.com/news/business/sun-pharma-unveils-first-branded-ophthalmic-productus_8029781.html',\n",
       " u'http://www.moneycontrol.com/news/business/sun-pharma-cadila-healthcare-recall-productsus-market_8043201.html',\n",
       " u'http://www.moneycontrol.com/news/business/cadilas-20k-bottlesanti-depressant-recalledus_8010281.html',\n",
       " u'http://www.moneycontrol.com/news/buzzingstocks/sun-pharma-falls-7-sector-under-pressureus-probe-fear_7896501.html',\n",
       " u'http://www.moneycontrol.com/news/buzzingstocks/sun-pharma-falls-7-sector-under-pressureus-probe-fear_7896501.html']"
      ]
     },
     "execution_count": 3,
     "metadata": {},
     "output_type": "execute_result"
    }
   ],
   "source": [
    "List_of_links"
   ]
  },
  {
   "cell_type": "code",
   "execution_count": 4,
   "metadata": {
    "collapsed": false
   },
   "outputs": [
    {
     "name": "stdout",
     "output_type": "stream",
     "text": [
      "http://www.moneycontrol.com/news/buzzingstocks/sun-pharma-falls-7-sector-under-pressureus-probe-fear_7896501.html\n",
      "http://www.moneycontrol.com/news/business/sun-pharma-unveils-first-branded-ophthalmic-productus_8029781.html\n",
      "http://www.moneycontrol.com/news/business/dr-reddys-launches-raloxifene-hydrochloride-tabletsus_7951381.html\n",
      "http://www.moneycontrol.com/news/business/sun-pharma-cadila-healthcare-recall-productsus-market_8043201.html\n",
      "http://www.moneycontrol.com/news/fiiview/rising-us-approvals-to-boost-earnings-for-pharma-idfc-sec_7970661.html\n",
      "http://www.moneycontrol.com/news/business/cadilas-20k-bottlesanti-depressant-recalledus_8010281.html\n",
      "http://www.moneycontrol.com/news/announcements/dr-reddys-lab-launches-raloxifene-tabletsus-market_7950241.html\n"
     ]
    }
   ],
   "source": [
    "# Remove the duplicate news articles based on News Title\n",
    "unique_links = list(set(List_of_links))\n",
    "for q in unique_links: print q\n",
    "\n",
    "# Create a dictionary of positive/negative words related to the Pharma Sector\n",
    "reader = csv.reader(open('dict.csv', 'r'))"
   ]
  },
  {
   "cell_type": "code",
   "execution_count": 5,
   "metadata": {
    "collapsed": false
   },
   "outputs": [
    {
     "name": "stdout",
     "output_type": "stream",
     "text": [
      "head: cannot open `dict1.csv' for reading: No such file or directory\r\n"
     ]
    }
   ],
   "source": [
    "!head dict1.csv"
   ]
  },
  {
   "cell_type": "code",
   "execution_count": 6,
   "metadata": {
    "collapsed": false
   },
   "outputs": [
    {
     "name": "stdout",
     "output_type": "stream",
     "text": [
      "[]\n"
     ]
    }
   ],
   "source": [
    "pharma_dict = dict((rows[0],rows[1]) for rows in reader)\n",
    "\n",
    "# Creating an empty list which will be filled later with news article links, and Polarity values (pos/neg)\n",
    "df =[]\n",
    "print df"
   ]
  },
  {
   "cell_type": "code",
   "execution_count": 7,
   "metadata": {
    "collapsed": false
   },
   "outputs": [
    {
     "name": "stdout",
     "output_type": "stream",
     "text": [
      "[u'http://www.moneycontrol.com/news/buzzingstocks/sun-pharma-falls-7-sector-under-pressureus-probe-fear_7896501.html', [], []]\n",
      "[u'http://www.moneycontrol.com/news/business/sun-pharma-unveils-first-branded-ophthalmic-productus_8029781.html', [], []]\n",
      "[u'http://www.moneycontrol.com/news/business/dr-reddys-launches-raloxifene-hydrochloride-tabletsus_7951381.html', [], []]\n",
      "[u'http://www.moneycontrol.com/news/business/sun-pharma-cadila-healthcare-recall-productsus-market_8043201.html', [], []]\n",
      "[u'http://www.moneycontrol.com/news/fiiview/rising-us-approvals-to-boost-earnings-for-pharma-idfc-sec_7970661.html', [], []]\n",
      "[u'http://www.moneycontrol.com/news/business/cadilas-20k-bottlesanti-depressant-recalledus_8010281.html', [], [u'failed']]\n",
      "[u'http://www.moneycontrol.com/news/announcements/dr-reddys-lab-launches-raloxifene-tabletsus-market_7950241.html', [], []]\n"
     ]
    },
    {
     "name": "stderr",
     "output_type": "stream",
     "text": [
      "/opt/conda/lib/python2.7/site-packages/bs4/__init__.py:181: UserWarning: No parser was explicitly specified, so I'm using the best available HTML parser for this system (\"html.parser\"). This usually isn't a problem, but if you run this code on another system, or in a different virtual environment, it may use a different parser and behave differently.\n",
      "\n",
      "The code that caused this warning is on line 162 of the file /opt/conda/lib/python2.7/runpy.py. To get rid of this warning, change code that looks like this:\n",
      "\n",
      " BeautifulSoup([your markup])\n",
      "\n",
      "to this:\n",
      "\n",
      " BeautifulSoup([your markup], \"html.parser\")\n",
      "\n",
      "  markup_type=markup_type))\n"
     ]
    }
   ],
   "source": [
    "# Open the choosen news articles and extract the main text  \n",
    "for selected_links in unique_links:\n",
    "   results_url = selected_links \n",
    "   #print results_url\n",
    "   \n",
    "   results = requests.get(results_url)\n",
    "   results_text = BeautifulSoup(results.text)\n",
    "   extract_text = results_text.find(class_='arti_cont')\n",
    "   final_text = extract_text.get_text()\n",
    "   final_text1 = ngrams(final_text, n=1, punctuation=\".,;:!?()[]{}`''\\\"@#$^&amp;*+-|=~_\", continuous=False)\n",
    "  # Checking if any of the words in the news article text matches with the words in the Pharma dictionary(pos/neg)\n",
    "   new_dict = {}\n",
    "   positive_score,negative_score = 0,0\n",
    "   \n",
    "   for x in final_text1:\n",
    "      if pharma_dict.has_key(x[0]):\n",
    "         new_dict[x[0]] = pharma_dict[x[0]] \n",
    "                  \n",
    "   positive_list = [] ; negative_list = [];\n",
    "   for key, value in new_dict.items():\n",
    "      if value == 'positive': positive_list.append(key)\n",
    "      if value == 'negative': negative_list.append(key)\n",
    "                           \n",
    "   # Compute the positive score, the negative score for each news articles\n",
    "   positive_score = (positive_list) ; negative_score = (negative_list);\n",
    "   #print positive_list ; print negative_list ;\n",
    "   #print positive_score ; print negative_score;\n",
    "   # Appending the empty list to create the final Sentiment analysis output\n",
    "   var_nos = [results_url,positive_score, negative_score]\n",
    "   df.append(var_nos)\n",
    "   \n",
    "# Print the final list of the Sentiment Analysis \n",
    "for item in df:\n",
    "      print(item)"
   ]
  },
  {
   "cell_type": "code",
   "execution_count": null,
   "metadata": {
    "collapsed": true
   },
   "outputs": [],
   "source": []
  }
 ],
 "metadata": {
  "kernelspec": {
   "display_name": "Python 2",
   "language": "python",
   "name": "python2"
  },
  "language_info": {
   "codemirror_mode": {
    "name": "ipython",
    "version": 2
   },
   "file_extension": ".py",
   "mimetype": "text/x-python",
   "name": "python",
   "nbconvert_exporter": "python",
   "pygments_lexer": "ipython2",
   "version": "2.7.11"
  }
 },
 "nbformat": 4,
 "nbformat_minor": 0
}
